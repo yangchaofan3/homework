{
 "cells": [
  {
   "cell_type": "code",
   "execution_count": 1,
   "metadata": {},
   "outputs": [
    {
     "name": "stderr",
     "output_type": "stream",
     "text": [
      "Building prefix dict from the default dictionary ...\n",
      "Loading model from cache C:\\Users\\Ricardo\\AppData\\Local\\Temp\\jieba.cache\n",
      "Loading model cost 0.675 seconds.\n",
      "Prefix dict has been built succesfully.\n"
     ]
    },
    {
     "name": "stdout",
     "output_type": "stream",
     "text": [
      "1 0.5703125 ​国足输给叙利亚之后，里皮辞职\n",
      "34 0.3515625 国足输给叙利亚后，里皮坐不住了，直接辞职了难怪有网友说，爱护生命，远离男足\n",
      "37 1.0 国足昨晚1-2输给叙利亚，赛后主帅里皮宣布辞职\n",
      "Top 3 邻居 [1, 34, 37]\n"
     ]
    }
   ],
   "source": [
    "from datasketch import MinHash,MinHashLSH,MinHashLSHForest\n",
    "from sklearn.feature_extraction.text import TfidfVectorizer\n",
    "import jieba.posseg as pseg\n",
    "import re\n",
    "#读取文件\n",
    "f = open('./weibos.txt','r',encoding='UTF-8')\n",
    "text = f.read()\n",
    "#以。！？作为分割并去掉换行符\n",
    "sentences = re.split(r'[。！？]',text.replace('\\n',''))\n",
    "\n",
    "#print(sentences)\n",
    "#若最后一行为空去除\n",
    "if sentences[-1] == '':\n",
    "    sentences.pop()\n",
    "#print(sentences)\n",
    "#print(len(sentences))\n",
    "\n",
    "#将item_txt分词\n",
    "#jieba pseg用法和自定义词典的方法https://www.cnblogs.com/OliverQin/p/8983164.html\n",
    "def get_item_str(item_txt):\n",
    "    item_str = ''\n",
    "    item=(pseg.cut(item_txt)) #pseg可以对切割的词汇标注词性\n",
    "    for i in list(item):\n",
    "        #去掉停用词,i.flag表示词性，i.word表示单词\n",
    "        if i.word not in list(stop):\n",
    "            item_str += i.word\n",
    "            #tfidf_vectorizer.fit_transform的输入需要空格分隔的单词\n",
    "            item_str += ' '\n",
    "    return item_str\n",
    "#对item_str 创建MinHash\n",
    "def get_minhash(item_str):\n",
    "    temp = MinHash()\n",
    "    for d in item_str:\n",
    "        temp.update(d.encode('utf8'))\n",
    "    return temp\n",
    "\n",
    "#设置停用词\n",
    "stop = [line.strip().encode('utf-8') for line in open('stopwords.txt').readlines()]\n",
    "#得到分词后的documents\n",
    "documents = []\n",
    "for item_text in sentences:\n",
    "    #将item_text进行分词\n",
    "    item_str = get_item_str(item_text)\n",
    "    documents.append(item_str)\n",
    "\n",
    "#创建LSH Forest及MinHash对象\n",
    "minhash_list= []\n",
    "forest = MinHashLSHForest()\n",
    "for i in range(len(documents)):\n",
    "    #得到train_documents[i]的MinHash\n",
    "    temp = get_minhash(documents[i])\n",
    "    minhash_list.append(temp)\n",
    "    forest.add(i,temp)\n",
    "#index所有key以便可以进行检索\n",
    "forest.index()\n",
    "\n",
    "query = '国足昨晚1-2输给叙利亚，赛后主帅里皮宣布辞职'\n",
    "#将item_txt分词\n",
    "item_str = get_item_str(query)\n",
    "#得到item_str的MinHash\n",
    "minhashquery = get_minhash(item_str)\n",
    "\n",
    "#查询forest中与m1相似的top-k个邻居\n",
    "result = forest.query(minhashquery,3)\n",
    "for i in range(len(result)):\n",
    "    print(result[i],minhashquery.jaccard(minhash_list[result[i]]),documents[result[i]].replace(' ',''))\n",
    "print('Top 3 邻居',result)"
   ]
  }
 ],
 "metadata": {
  "kernelspec": {
   "display_name": "Python 3",
   "language": "python",
   "name": "python3"
  },
  "language_info": {
   "codemirror_mode": {
    "name": "ipython",
    "version": 3
   },
   "file_extension": ".py",
   "mimetype": "text/x-python",
   "name": "python",
   "nbconvert_exporter": "python",
   "pygments_lexer": "ipython3",
   "version": "3.7.0"
  }
 },
 "nbformat": 4,
 "nbformat_minor": 2
}
