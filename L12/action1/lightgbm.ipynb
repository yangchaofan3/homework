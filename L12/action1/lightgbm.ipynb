{
 "cells": [
  {
   "cell_type": "code",
   "execution_count": 1,
   "metadata": {},
   "outputs": [],
   "source": [
    "import pandas as pd\n",
    "train=pd.read_csv('train.csv',index_col=0)\n",
    "test=pd.read_csv('test.csv',index_col=0)\n",
    "\n",
    "#处理Attition\n",
    "train['Attrition']=train['Attrition'].map(lambda x:1 if x=='Yes' else 0)\n",
    "from sklearn.preprocessing import LabelEncoder\n",
    "\n",
    "train = train.drop(['EmployeeNumber','StandardHours'],axis=1)\n",
    "test = test.drop(['EmployeeNumber','StandardHours'],axis=1)\n",
    "\n",
    "#对分类特征编码\n",
    "attr = ['BusinessTravel','Department','EducationField','Gender','JobRole','MaritalStatus','Over18','OverTime']\n",
    "\n",
    "for feature in attr:\n",
    "    lbe = LabelEncoder()\n",
    "    train[feature]=lbe.fit_transform(train[feature])\n",
    "    test[feature]=lbe.transform(test[feature])\n",
    "    "
   ]
  },
  {
   "cell_type": "code",
   "execution_count": 2,
   "metadata": {},
   "outputs": [
    {
     "name": "stderr",
     "output_type": "stream",
     "text": [
      "C:\\Users\\Ricardo\\Anaconda3\\lib\\site-packages\\lightgbm\\basic.py:1295: UserWarning: categorical_feature in Dataset is overridden.\n",
      "New categorical_feature is ['BusinessTravel', 'Department', 'EducationField', 'Gender', 'JobRole', 'MaritalStatus', 'Over18', 'OverTime']\n",
      "  'New categorical_feature is {}'.format(sorted(list(categorical_feature))))\n"
     ]
    },
    {
     "name": "stdout",
     "output_type": "stream",
     "text": [
      "Training until validation scores don't improve for 200 rounds\n",
      "[25]\ttraining's auc: 0.929095\tvalid_1's auc: 0.773709\n",
      "[50]\ttraining's auc: 0.942141\tvalid_1's auc: 0.7957\n",
      "[75]\ttraining's auc: 0.956017\tvalid_1's auc: 0.803885\n",
      "[100]\ttraining's auc: 0.965924\tvalid_1's auc: 0.807923\n",
      "[125]\ttraining's auc: 0.973738\tvalid_1's auc: 0.815126\n",
      "[150]\ttraining's auc: 0.978803\tvalid_1's auc: 0.816763\n",
      "[175]\ttraining's auc: 0.985064\tvalid_1's auc: 0.819819\n",
      "[200]\ttraining's auc: 0.98959\tvalid_1's auc: 0.821019\n",
      "[225]\ttraining's auc: 0.992824\tvalid_1's auc: 0.822111\n",
      "[250]\ttraining's auc: 0.994279\tvalid_1's auc: 0.823748\n",
      "[275]\ttraining's auc: 0.995976\tvalid_1's auc: 0.823857\n",
      "[300]\ttraining's auc: 0.996964\tvalid_1's auc: 0.823857\n",
      "[325]\ttraining's auc: 0.997925\tvalid_1's auc: 0.824948\n",
      "[350]\ttraining's auc: 0.998635\tvalid_1's auc: 0.828113\n",
      "[375]\ttraining's auc: 0.998922\tvalid_1's auc: 0.82724\n",
      "[400]\ttraining's auc: 0.999255\tvalid_1's auc: 0.828331\n",
      "[425]\ttraining's auc: 0.999533\tvalid_1's auc: 0.831496\n",
      "[450]\ttraining's auc: 0.999749\tvalid_1's auc: 0.833133\n",
      "[475]\ttraining's auc: 0.99982\tvalid_1's auc: 0.833679\n",
      "[500]\ttraining's auc: 0.999892\tvalid_1's auc: 0.834989\n",
      "[525]\ttraining's auc: 0.999919\tvalid_1's auc: 0.833788\n",
      "[550]\ttraining's auc: 0.999955\tvalid_1's auc: 0.833679\n",
      "[575]\ttraining's auc: 0.999982\tvalid_1's auc: 0.834006\n",
      "[600]\ttraining's auc: 0.999982\tvalid_1's auc: 0.835207\n",
      "[625]\ttraining's auc: 0.999982\tvalid_1's auc: 0.833788\n",
      "[650]\ttraining's auc: 0.999982\tvalid_1's auc: 0.833133\n",
      "[675]\ttraining's auc: 1\tvalid_1's auc: 0.831169\n",
      "[700]\ttraining's auc: 1\tvalid_1's auc: 0.833679\n",
      "[725]\ttraining's auc: 1\tvalid_1's auc: 0.832042\n",
      "[750]\ttraining's auc: 1\tvalid_1's auc: 0.832915\n",
      "[775]\ttraining's auc: 1\tvalid_1's auc: 0.831715\n",
      "[800]\ttraining's auc: 1\tvalid_1's auc: 0.831933\n",
      "Early stopping, best iteration is:\n",
      "[603]\ttraining's auc: 0.999982\tvalid_1's auc: 0.835643\n"
     ]
    }
   ],
   "source": [
    "import lightgbm as lgb\n",
    "from sklearn.model_selection import train_test_split\n",
    "param ={'boosting_type':'gbdt',\n",
    "       'objective':'binary',\n",
    "       'metric':'auc',\n",
    "       'learning_rate':0.01,\n",
    "       'max_depth':15,\n",
    "       'feature_fraction':0.8,\n",
    "       'bagging_fraction':0.9,\n",
    "       'bagging_freq':8,\n",
    "       'lambda_l1':0.6,\n",
    "       'lambda_l2':0,\n",
    "       }\n",
    "X_train,X_valid,y_train,y_valid=train_test_split(train.drop('Attrition',axis=1),train['Attrition'],test_size=0.2,random_state=42)\n",
    "train_data = lgb.Dataset(X_train,label=y_train)\n",
    "valid_data = lgb.Dataset(X_valid,label=y_valid)\n",
    "\n",
    "model=lgb.train(param,train_data,valid_sets=[train_data,valid_data],num_boost_round=1000,early_stopping_rounds=200,verbose_eval=25,categorical_feature=attr)\n",
    "predict=model.predict(test)\n",
    "\n",
    "test['Attrition']=predict\n",
    "test['Attrition']=test['Attrition'].map(lambda x:1 if x>=0.5 else 0)"
   ]
  },
  {
   "cell_type": "code",
   "execution_count": 3,
   "metadata": {},
   "outputs": [],
   "source": [
    "test.reset_index()[['user_id','Attrition']].to_csv('submit_lgb.csv',index=None)"
   ]
  }
 ],
 "metadata": {
  "kernelspec": {
   "display_name": "Python 3",
   "language": "python",
   "name": "python3"
  },
  "language_info": {
   "codemirror_mode": {
    "name": "ipython",
    "version": 3
   },
   "file_extension": ".py",
   "mimetype": "text/x-python",
   "name": "python",
   "nbconvert_exporter": "python",
   "pygments_lexer": "ipython3",
   "version": "3.7.0"
  }
 },
 "nbformat": 4,
 "nbformat_minor": 2
}
