{
 "cells": [
  {
   "cell_type": "code",
   "execution_count": 1,
   "metadata": {},
   "outputs": [
    {
     "name": "stdout",
     "output_type": "stream",
     "text": [
      "[0, 1, 3, 5, 6, 9, 13, 15, 19, 20]\n",
      "0:\ttest: 0.6390374\tbest: 0.6390374 (0)\ttotal: 80ms\tremaining: 1m 19s\n",
      "50:\ttest: 0.7893703\tbest: 0.7893703 (50)\ttotal: 957ms\tremaining: 17.8s\n",
      "100:\ttest: 0.7950453\tbest: 0.7950453 (100)\ttotal: 2s\tremaining: 17.8s\n",
      "150:\ttest: 0.8011568\tbest: 0.8011568 (150)\ttotal: 3.09s\tremaining: 17.4s\n",
      "200:\ttest: 0.7958092\tbest: 0.8011568 (150)\ttotal: 4.43s\tremaining: 17.6s\n",
      "250:\ttest: 0.8023573\tbest: 0.8023573 (250)\ttotal: 5.64s\tremaining: 16.8s\n",
      "300:\ttest: 0.8034487\tbest: 0.8034487 (300)\ttotal: 6.66s\tremaining: 15.5s\n",
      "350:\ttest: 0.8046491\tbest: 0.8046491 (350)\ttotal: 8.02s\tremaining: 14.8s\n",
      "400:\ttest: 0.8030121\tbest: 0.8046491 (350)\ttotal: 9.41s\tremaining: 14.1s\n",
      "450:\ttest: 0.8054131\tbest: 0.8054131 (450)\ttotal: 10.8s\tremaining: 13.1s\n",
      "500:\ttest: 0.8067227\tbest: 0.8067227 (500)\ttotal: 12.1s\tremaining: 12.1s\n",
      "550:\ttest: 0.8062862\tbest: 0.8067227 (500)\ttotal: 13.3s\tremaining: 10.8s\n",
      "600:\ttest: 0.8056313\tbest: 0.8067227 (500)\ttotal: 14.5s\tremaining: 9.64s\n",
      "650:\ttest: 0.8053039\tbest: 0.8067227 (500)\ttotal: 15.7s\tremaining: 8.42s\n",
      "700:\ttest: 0.8061770\tbest: 0.8067227 (500)\ttotal: 16.9s\tremaining: 7.2s\n",
      "750:\ttest: 0.8082506\tbest: 0.8082506 (750)\ttotal: 17.9s\tremaining: 5.94s\n",
      "800:\ttest: 0.8072684\tbest: 0.8082506 (750)\ttotal: 19.1s\tremaining: 4.75s\n",
      "850:\ttest: 0.8073775\tbest: 0.8082506 (750)\ttotal: 20.3s\tremaining: 3.56s\n",
      "900:\ttest: 0.8084688\tbest: 0.8084688 (900)\ttotal: 21.5s\tremaining: 2.36s\n",
      "950:\ttest: 0.8092328\tbest: 0.8092328 (950)\ttotal: 22.6s\tremaining: 1.17s\n",
      "999:\ttest: 0.8105424\tbest: 0.8105424 (999)\ttotal: 23.9s\tremaining: 0us\n",
      "\n",
      "bestTest = 0.8105423988\n",
      "bestIteration = 999\n",
      "\n"
     ]
    }
   ],
   "source": [
    "import pandas as pd\n",
    "train=pd.read_csv('train.csv',index_col=0)\n",
    "test=pd.read_csv('test.csv',index_col=0)\n",
    "\n",
    "#print(train['Attrition'].value_counts())\n",
    "# 处理Attrition字段\n",
    "train['Attrition']=train['Attrition'].map(lambda x:1 if x=='Yes' else 0)\n",
    "from sklearn.preprocessing import LabelEncoder\n",
    "# 查看数据是否有空值\n",
    "#print(train.isna().sum())\n",
    "\n",
    "# 去掉没用的列 员工号码，标准工时（=80）\n",
    "train = train.drop(['EmployeeNumber', 'StandardHours'], axis=1)\n",
    "test = test.drop(['EmployeeNumber', 'StandardHours'], axis=1)\n",
    "\n",
    "# 对于分类特征进行特征值编码\n",
    "attr=['Age','BusinessTravel','Department','Education','EducationField','Gender','JobRole','MaritalStatus','Over18','OverTime']\n",
    "lbe_list=[]\n",
    "for feature in attr:\n",
    "    lbe=LabelEncoder()\n",
    "    train[feature]=lbe.fit_transform(train[feature])\n",
    "    test[feature]=lbe.transform(test[feature])\n",
    "    lbe_list.append(lbe)\n",
    "#print(train)\n",
    "\n",
    "import catboost as cb\n",
    "import numpy as np\n",
    "from sklearn.model_selection import train_test_split\n",
    "X_train, X_valid, y_train, y_valid = train_test_split(train.drop('Attrition',axis=1), train['Attrition'], test_size=0.2, random_state=42)\n",
    "\n",
    "model = cb.CatBoostClassifier(iterations=1000, \n",
    "                              depth=7, \n",
    "                              learning_rate=0.01, \n",
    "                              loss_function='Logloss', \n",
    "                              eval_metric='AUC',\n",
    "                              logging_level='Verbose', \n",
    "                              metric_period=50\n",
    "                             )\n",
    "\n",
    "# 得到分类特征的列号\n",
    "categorical_features_indices = []\n",
    "for i in range(len(X_train.columns)):\n",
    "    if X_train.columns.values[i] in attr:\n",
    "        categorical_features_indices.append(i)\n",
    "print(categorical_features_indices)\n",
    "\n",
    "model.fit(X_train, y_train, eval_set=(X_valid, y_valid), cat_features=categorical_features_indices)\n",
    "\n",
    "#model = cb.train(param, train_data, evals=[(train_data, 'train'), (valid_data, 'valid')], num_boost_round = 10000, early_stopping_rounds=200, verbose_eval=25)\n",
    "predict = model.predict(test)\n",
    "#predict = model.predict_proba(test)\n",
    "#print(predict)\n",
    "test['Attrition']=predict\n",
    "## 转化为二分类输出\n",
    "#test['Attrition']=test['Attrition'].map(lambda x:1 if x>=0.5 else 0)"
   ]
  },
  {
   "cell_type": "code",
   "execution_count": 3,
   "metadata": {},
   "outputs": [],
   "source": [
    "test.reset_index()[['user_id','Attrition']].to_csv('submit_cb.csv')"
   ]
  }
 ],
 "metadata": {
  "kernelspec": {
   "display_name": "Python 3",
   "language": "python",
   "name": "python3"
  },
  "language_info": {
   "codemirror_mode": {
    "name": "ipython",
    "version": 3
   },
   "file_extension": ".py",
   "mimetype": "text/x-python",
   "name": "python",
   "nbconvert_exporter": "python",
   "pygments_lexer": "ipython3",
   "version": "3.7.0"
  }
 },
 "nbformat": 4,
 "nbformat_minor": 2
}
