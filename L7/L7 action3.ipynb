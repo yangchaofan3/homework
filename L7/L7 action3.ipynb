{
 "cells": [
  {
   "cell_type": "code",
   "execution_count": 7,
   "metadata": {},
   "outputs": [],
   "source": [
    "# -*-coding: utf-8 -*-\n",
    "# 对txt文件进行中文分词\n",
    "import jieba\n",
    "import os\n",
    "from utils import files_processing"
   ]
  },
  {
   "cell_type": "code",
   "execution_count": 11,
   "metadata": {},
   "outputs": [],
   "source": [
    "# 源文件所在目录\n",
    "source_folder = './three_kingdoms/source'\n",
    "segment_folder = './three_kingdoms/segment'\n",
    "\n",
    "# 字词分割，对整个文件内容进行字词分割\n",
    "def segment_lines(file_list,segment_out_dir,stopwords=[]):\n",
    "    for i,file in enumerate(file_list):\n",
    "        segment_out_name=os.path.join(segment_out_dir,'segment_{}.txt'.format(i))\n",
    "        with open(file, 'rb') as f:\n",
    "            document = f.read()\n",
    "            document_cut = jieba.cut(document)\n",
    "            sentence_segment=[]\n",
    "            for word in document_cut:\n",
    "                if word not in stopwords:\n",
    "                    sentence_segment.append(word)\n",
    "            result = ' '.join(sentence_segment)\n",
    "            result = result.encode('utf-8')\n",
    "            with open(segment_out_name, 'wb') as f2:\n",
    "                f2.write(result)\n",
    "\n",
    "# 对source中的txt文件进行分词，输出到segment目录中\n",
    "file_list=files_processing.get_files_list(source_folder, postfix='*.txt')\n",
    "segment_lines(file_list, segment_folder)\n"
   ]
  },
  {
   "cell_type": "code",
   "execution_count": 22,
   "metadata": {},
   "outputs": [],
   "source": [
    "#进行word_similarity计算\n",
    "# 将Word转换成Vec，然后计算相似度 \n",
    "from gensim.models import word2vec\n",
    "import multiprocessing"
   ]
  },
  {
   "cell_type": "code",
   "execution_count": 24,
   "metadata": {},
   "outputs": [
    {
     "name": "stderr",
     "output_type": "stream",
     "text": [
      "C:\\Users\\Ricardo\\Anaconda3\\lib\\site-packages\\smart_open\\smart_open_lib.py:402: UserWarning: This function is deprecated, use smart_open.open instead. See the migration notes for details: https://github.com/RaRe-Technologies/smart_open/blob/master/README.rst#migrating-to-the-new-open-function\n",
      "  'See the migration notes for details: %s' % _MIGRATION_NOTES_URL\n"
     ]
    },
    {
     "name": "stdout",
     "output_type": "stream",
     "text": [
      "0.98581564\n",
      "0.96024084\n",
      "[('丞相', 0.9956442713737488), ('既', 0.9953338503837585), ('主公', 0.9950926303863525), ('某', 0.9947513937950134), ('今', 0.9947124719619751), ('臣', 0.9945623874664307), ('吾', 0.9938522577285767), ('操问', 0.9933276176452637), ('此人', 0.992870569229126), ('此间', 0.9919701218605042)]\n",
      "[('惊服', 0.8477240204811096), ('待汝不薄', 0.8435314893722534), ('如不教', 0.8421955704689026), ('耿武叹', 0.8400616645812988), ('谓康', 0.8385885953903198), ('露颖', 0.8351389765739441), ('闻汝将', 0.8338204622268677), ('一夥军言', 0.832854151725769), ('汝交厚', 0.8309146165847778), ('将相', 0.8298258781433105)]\n",
      "0.86256516\n",
      "0.36833468\n",
      "[('吾', 0.988606333732605), ('丞相', 0.9817427396774292), ('主公', 0.9801850914955139), ('臣', 0.9795504212379456), ('何策', 0.9783772230148315), ('陛下', 0.9779850244522095), ('言正合', 0.97784423828125), ('一人出', 0.9767052531242371), ('谁', 0.9761945009231567), ('何人', 0.9758437275886536)]\n"
     ]
    }
   ],
   "source": [
    "segment_folder = './three_kingdoms/segment'\n",
    "sentences = word2vec.PathLineSentences(segment_folder)\n",
    "\n",
    "#设置模型参数，进行训练\n",
    "model = word2vec.Word2Vec(sentences,size=100,window=3,min_count=1)\n",
    "print(model.wv.similarity('曹操','刘备'))\n",
    "print(model.wv.similarity('刘备','张飞'))\n",
    "print(model.wv.most_similar(positive=['曹操','刘备'],negative=['张飞']))\n",
    "print(model.wv.most_similar(positive=['曹操'],negative=['张飞']))\n",
    "#设置模型参数，进行训练\n",
    "model = word2vec.Word2Vec(sentences,size=128,window=5,min_count=5)\n",
    "print(model.wv.similarity('曹操','刘备'))\n",
    "print(model.wv.similarity('刘备','张飞'))\n",
    "print(model.wv.most_similar(positive=['曹操','刘备'],negative=['张飞']))"
   ]
  },
  {
   "cell_type": "code",
   "execution_count": 25,
   "metadata": {},
   "outputs": [
    {
     "name": "stderr",
     "output_type": "stream",
     "text": [
      "C:\\Users\\Ricardo\\Anaconda3\\lib\\site-packages\\smart_open\\smart_open_lib.py:402: UserWarning: This function is deprecated, use smart_open.open instead. See the migration notes for details: https://github.com/RaRe-Technologies/smart_open/blob/master/README.rst#migrating-to-the-new-open-function\n",
      "  'See the migration notes for details: %s' % _MIGRATION_NOTES_URL\n"
     ]
    },
    {
     "name": "stdout",
     "output_type": "stream",
     "text": [
      "[('已', 0.994207501411438), ('孔明', 0.9936599731445312), ('岱', 0.9917207956314087), ('孙权', 0.99164879322052), ('众将', 0.9912554621696472), ('司马懿', 0.9904869794845581), ('周瑜', 0.9901856184005737), ('孔明谓', 0.9897457361221313), ('决战', 0.9895024299621582), ('见', 0.9891849160194397)]\n",
      "[('已', 0.9906291961669922), ('往', 0.9868385791778564), ('众将', 0.9862385988235474), ('孔明谓', 0.9862344861030579), ('蜀', 0.983873724937439), ('先主', 0.9835844039916992), ('袁绍', 0.9831775426864624), ('关公', 0.9831109642982483), ('闻皇叔', 0.982467532157898), ('汝二人', 0.981963038444519)]\n"
     ]
    }
   ],
   "source": [
    "#设置模型参数，进行训练\n",
    "model = word2vec.Word2Vec(sentences,size=100,window=3,min_count=1)\n",
    "print(model.wv.most_similar(positive=['曹操']))\n",
    "model = word2vec.Word2Vec(sentences,size=128,window=5,min_count=3)\n",
    "print(model.wv.most_similar(positive=['曹操']))"
   ]
  }
 ],
 "metadata": {
  "kernelspec": {
   "display_name": "Python 3",
   "language": "python",
   "name": "python3"
  },
  "language_info": {
   "codemirror_mode": {
    "name": "ipython",
    "version": 3
   },
   "file_extension": ".py",
   "mimetype": "text/x-python",
   "name": "python",
   "nbconvert_exporter": "python",
   "pygments_lexer": "ipython3",
   "version": "3.7.0"
  }
 },
 "nbformat": 4,
 "nbformat_minor": 2
}
