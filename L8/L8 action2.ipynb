{
 "cells": [
  {
   "cell_type": "code",
   "execution_count": 9,
   "metadata": {},
   "outputs": [],
   "source": [
    "from surprise import KNNWithZScore\n",
    "from surprise import Dataset,Reader\n",
    "from surprise.model_selection import cross_validate"
   ]
  },
  {
   "cell_type": "code",
   "execution_count": 10,
   "metadata": {},
   "outputs": [],
   "source": [
    "#数据读取\n",
    "reader = Reader(line_format='user item rating timestamp', sep=',',skip_lines=1)\n",
    "data = Dataset.load_from_file('./movielens_sample.csv',reader=reader)"
   ]
  },
  {
   "cell_type": "code",
   "execution_count": 11,
   "metadata": {},
   "outputs": [
    {
     "name": "stdout",
     "output_type": "stream",
     "text": [
      "Computing the msd similarity matrix...\n",
      "Done computing similarity matrix.\n",
      "Computing the msd similarity matrix...\n",
      "Done computing similarity matrix.\n",
      "Computing the msd similarity matrix...\n",
      "Done computing similarity matrix.\n",
      "Computing the msd similarity matrix...\n",
      "Done computing similarity matrix.\n",
      "Computing the msd similarity matrix...\n",
      "Done computing similarity matrix.\n",
      "Evaluating RMSE, MAE of algorithm KNNWithZScore on 5 split(s).\n",
      "\n",
      "                  Fold 1  Fold 2  Fold 3  Fold 4  Fold 5  Mean    Std     \n",
      "RMSE (testset)    1.1577  1.2986  1.0279  1.0853  1.0221  1.1183  0.1025  \n",
      "MAE (testset)     1.0000  1.1006  0.8572  0.9347  0.8453  0.9476  0.0948  \n",
      "Fit time          0.00    0.00    0.00    0.00    0.00    0.00    0.00    \n",
      "Test time         0.00    0.00    0.02    0.00    0.00    0.00    0.01    \n"
     ]
    },
    {
     "data": {
      "text/plain": [
       "{'test_rmse': array([1.15765118, 1.29857193, 1.02791126, 1.0852887 , 1.02211866]),\n",
       " 'test_mae': array([1.       , 1.100625 , 0.8571875, 0.9346875, 0.8453125]),\n",
       " 'fit_time': (0.0007030963897705078,\n",
       "  0.0,\n",
       "  0.0,\n",
       "  0.004984617233276367,\n",
       "  0.004014015197753906),\n",
       " 'test_time': (0.0, 0.0, 0.016011953353881836, 0.0, 0.0009732246398925781)}"
      ]
     },
     "execution_count": 11,
     "metadata": {},
     "output_type": "execute_result"
    }
   ],
   "source": [
    "#ItemCF 计算得分\n",
    "#指定取最相似的50个\n",
    "algo = KNNWithZScore(k=50,sim_options={'user_based':False,'verbose':'True'})\n",
    "cross_validate(algo,data,measures=['RMSE','MAE'],cv=5,verbose=True)"
   ]
  },
  {
   "cell_type": "code",
   "execution_count": 12,
   "metadata": {
    "scrolled": true
   },
   "outputs": [
    {
     "name": "stdout",
     "output_type": "stream",
     "text": [
      "Computing the msd similarity matrix...\n",
      "Done computing similarity matrix.\n",
      "Computing the msd similarity matrix...\n",
      "Done computing similarity matrix.\n",
      "Computing the msd similarity matrix...\n",
      "Done computing similarity matrix.\n",
      "Computing the msd similarity matrix...\n",
      "Done computing similarity matrix.\n",
      "Computing the msd similarity matrix...\n",
      "Done computing similarity matrix.\n",
      "Evaluating RMSE, MAE of algorithm KNNWithZScore on 5 split(s).\n",
      "\n",
      "                  Fold 1  Fold 2  Fold 3  Fold 4  Fold 5  Mean    Std     \n",
      "RMSE (testset)    1.0382  1.2522  1.1402  1.0620  1.1328  1.1251  0.0748  \n",
      "MAE (testset)     0.9119  1.0012  0.9600  0.9137  0.9637  0.9501  0.0337  \n",
      "Fit time          0.01    0.01    0.00    0.00    0.00    0.01    0.00    \n",
      "Test time         0.00    0.00    0.00    0.00    0.00    0.00    0.00    \n"
     ]
    },
    {
     "data": {
      "text/plain": [
       "{'test_rmse': array([1.0381963 , 1.25224798, 1.14017543, 1.06200356, 1.13275108]),\n",
       " 'test_mae': array([0.911875, 1.00125 , 0.96    , 0.91375 , 0.96375 ]),\n",
       " 'fit_time': (0.006979942321777344,\n",
       "  0.0069789886474609375,\n",
       "  0.0049860477447509766,\n",
       "  0.004987001419067383,\n",
       "  0.004987001419067383),\n",
       " 'test_time': (0.0, 0.0, 0.0, 0.0, 0.0)}"
      ]
     },
     "execution_count": 12,
     "metadata": {},
     "output_type": "execute_result"
    }
   ],
   "source": [
    "#UserCF 计算得分\n",
    "#指定取最相似的50个\n",
    "algo = KNNWithZScore(k=50,sim_options={'user_based':True,'verbose':'True'})\n",
    "cross_validate(algo,data,measures=['RMSE','MAE'],cv=5,verbose=True)\n",
    "#从RMSE和MAE来看，当数据集中Item数量较少时ItemCF的效果要优于UserCF"
   ]
  },
  {
   "cell_type": "code",
   "execution_count": 15,
   "metadata": {},
   "outputs": [
    {
     "name": "stdout",
     "output_type": "stream",
     "text": [
      "Computing the msd similarity matrix...\n",
      "Done computing similarity matrix.\n",
      "Computing the msd similarity matrix...\n",
      "Done computing similarity matrix.\n",
      "Computing the msd similarity matrix...\n",
      "Done computing similarity matrix.\n",
      "Computing the msd similarity matrix...\n",
      "Done computing similarity matrix.\n",
      "Computing the msd similarity matrix...\n",
      "Done computing similarity matrix.\n",
      "Evaluating RMSE, MAE of algorithm KNNWithMeans on 5 split(s).\n",
      "\n",
      "                  Fold 1  Fold 2  Fold 3  Fold 4  Fold 5  Mean    Std     \n",
      "RMSE (testset)    1.0618  1.1647  1.0407  1.1560  1.1832  1.1213  0.0582  \n",
      "MAE (testset)     0.9175  0.9750  0.8925  0.9878  0.9500  0.9446  0.0354  \n",
      "Fit time          0.00    0.00    0.00    0.00    0.00    0.00    0.00    \n",
      "Test time         0.00    0.00    0.00    0.00    0.00    0.00    0.00    \n"
     ]
    },
    {
     "data": {
      "text/plain": [
       "{'test_rmse': array([1.06183803, 1.1647324 , 1.04073291, 1.1559797 , 1.18321596]),\n",
       " 'test_mae': array([0.9175   , 0.975    , 0.8925   , 0.9878125, 0.95     ]),\n",
       " 'fit_time': (0.0009982585906982422,\n",
       "  0.0019943714141845703,\n",
       "  0.001993417739868164,\n",
       "  0.0009982585906982422,\n",
       "  0.000988006591796875),\n",
       " 'test_time': (0.0009968280792236328, 0.0, 0.0, 0.0, 0.0010111331939697266)}"
      ]
     },
     "execution_count": 15,
     "metadata": {},
     "output_type": "execute_result"
    }
   ],
   "source": [
    "#分别尝试另外两种模型\n",
    "from surprise import KNNWithMeans,KNNBaseline\n",
    "algo1 = KNNWithMeans(k=50,sim_options={'user_based':False,'verbose':'True'})\n",
    "cross_validate(algo1,data,measures=['RMSE','MAE'],cv=5,verbose=True)"
   ]
  },
  {
   "cell_type": "code",
   "execution_count": 16,
   "metadata": {},
   "outputs": [
    {
     "name": "stdout",
     "output_type": "stream",
     "text": [
      "Estimating biases using als...\n",
      "Computing the msd similarity matrix...\n",
      "Done computing similarity matrix.\n",
      "Estimating biases using als...\n",
      "Computing the msd similarity matrix...\n",
      "Done computing similarity matrix.\n",
      "Estimating biases using als...\n",
      "Computing the msd similarity matrix...\n",
      "Done computing similarity matrix.\n",
      "Estimating biases using als...\n",
      "Computing the msd similarity matrix...\n",
      "Done computing similarity matrix.\n",
      "Estimating biases using als...\n",
      "Computing the msd similarity matrix...\n",
      "Done computing similarity matrix.\n",
      "Evaluating RMSE, MAE of algorithm KNNBaseline on 5 split(s).\n",
      "\n",
      "                  Fold 1  Fold 2  Fold 3  Fold 4  Fold 5  Mean    Std     \n",
      "RMSE (testset)    1.1286  1.0761  1.1194  1.0637  1.2028  1.1181  0.0490  \n",
      "MAE (testset)     0.9562  0.9273  0.9180  0.9095  1.0054  0.9433  0.0348  \n",
      "Fit time          0.00    0.00    0.00    0.00    0.00    0.00    0.00    \n",
      "Test time         0.00    0.00    0.00    0.00    0.00    0.00    0.00    \n"
     ]
    },
    {
     "data": {
      "text/plain": [
       "{'test_rmse': array([1.12857323, 1.07612182, 1.11937857, 1.06365309, 1.20280264]),\n",
       " 'test_mae': array([0.95619643, 0.92728571, 0.91799107, 0.90954464, 1.00542857]),\n",
       " 'fit_time': (0.000997781753540039,\n",
       "  0.0019919872283935547,\n",
       "  0.0009970664978027344,\n",
       "  0.0010294914245605469,\n",
       "  0.0009963512420654297),\n",
       " 'test_time': (0.0, 0.0, 0.0, 0.0, 0.0)}"
      ]
     },
     "execution_count": 16,
     "metadata": {},
     "output_type": "execute_result"
    }
   ],
   "source": [
    "#KNNBaseline的效果接近KNNWithZscore\n",
    "algo2 = KNNBaseline(k=50,sim_options={'user_based':False,'verbose':'True'})\n",
    "cross_validate(algo2,data,measures=['RMSE','MAE'],cv=5,verbose=True)"
   ]
  }
 ],
 "metadata": {
  "kernelspec": {
   "display_name": "Python 3",
   "language": "python",
   "name": "python3"
  },
  "language_info": {
   "codemirror_mode": {
    "name": "ipython",
    "version": 3
   },
   "file_extension": ".py",
   "mimetype": "text/x-python",
   "name": "python",
   "nbconvert_exporter": "python",
   "pygments_lexer": "ipython3",
   "version": "3.7.0"
  }
 },
 "nbformat": 4,
 "nbformat_minor": 2
}
