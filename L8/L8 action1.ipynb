{
 "cells": [
  {
   "cell_type": "code",
   "execution_count": 2,
   "metadata": {},
   "outputs": [],
   "source": [
    "import pandas as pd\n",
    "from sklearn.model_selection import train_test_split\n",
    "from sklearn.metrics import mean_squared_error\n",
    "from sklearn.preprocessing import LabelEncoder\n",
    "\n",
    "from deepctr.models import WDL\n",
    "from deepctr.inputs import SparseFeat,get_feature_names"
   ]
  },
  {
   "cell_type": "code",
   "execution_count": 3,
   "metadata": {},
   "outputs": [],
   "source": [
    "data = pd.read_csv('movielens_sample.txt')\n",
    "sparse_features = ['user_id','movie_id','gender','age',\n",
    "                  'occupation','zip']\n",
    "target = ['rating']"
   ]
  },
  {
   "cell_type": "code",
   "execution_count": 5,
   "metadata": {},
   "outputs": [],
   "source": [
    "#对特征标签进行编码\n",
    "for feature in sparse_features:\n",
    "    lbe = LabelEncoder()\n",
    "    data[feature] = lbe.fit_transform(data[feature])"
   ]
  },
  {
   "cell_type": "code",
   "execution_count": 6,
   "metadata": {},
   "outputs": [
    {
     "data": {
      "text/html": [
       "<div>\n",
       "<style scoped>\n",
       "    .dataframe tbody tr th:only-of-type {\n",
       "        vertical-align: middle;\n",
       "    }\n",
       "\n",
       "    .dataframe tbody tr th {\n",
       "        vertical-align: top;\n",
       "    }\n",
       "\n",
       "    .dataframe thead th {\n",
       "        text-align: right;\n",
       "    }\n",
       "</style>\n",
       "<table border=\"1\" class=\"dataframe\">\n",
       "  <thead>\n",
       "    <tr style=\"text-align: right;\">\n",
       "      <th></th>\n",
       "      <th>user_id</th>\n",
       "      <th>movie_id</th>\n",
       "      <th>rating</th>\n",
       "      <th>timestamp</th>\n",
       "      <th>title</th>\n",
       "      <th>genres</th>\n",
       "      <th>gender</th>\n",
       "      <th>age</th>\n",
       "      <th>occupation</th>\n",
       "      <th>zip</th>\n",
       "    </tr>\n",
       "  </thead>\n",
       "  <tbody>\n",
       "    <tr>\n",
       "      <th>0</th>\n",
       "      <td>107</td>\n",
       "      <td>12</td>\n",
       "      <td>4</td>\n",
       "      <td>968035345</td>\n",
       "      <td>Ed Wood (1994)</td>\n",
       "      <td>Comedy|Drama</td>\n",
       "      <td>0</td>\n",
       "      <td>2</td>\n",
       "      <td>4</td>\n",
       "      <td>35</td>\n",
       "    </tr>\n",
       "    <tr>\n",
       "      <th>1</th>\n",
       "      <td>123</td>\n",
       "      <td>169</td>\n",
       "      <td>3</td>\n",
       "      <td>966536874</td>\n",
       "      <td>Patriot Games (1992)</td>\n",
       "      <td>Action|Thriller</td>\n",
       "      <td>1</td>\n",
       "      <td>1</td>\n",
       "      <td>4</td>\n",
       "      <td>118</td>\n",
       "    </tr>\n",
       "    <tr>\n",
       "      <th>2</th>\n",
       "      <td>12</td>\n",
       "      <td>6</td>\n",
       "      <td>4</td>\n",
       "      <td>976203603</td>\n",
       "      <td>Bridges of Madison County, The (1995)</td>\n",
       "      <td>Drama|Romance</td>\n",
       "      <td>0</td>\n",
       "      <td>2</td>\n",
       "      <td>13</td>\n",
       "      <td>99</td>\n",
       "    </tr>\n",
       "    <tr>\n",
       "      <th>3</th>\n",
       "      <td>21</td>\n",
       "      <td>112</td>\n",
       "      <td>3</td>\n",
       "      <td>975430389</td>\n",
       "      <td>Indiana Jones and the Temple of Doom (1984)</td>\n",
       "      <td>Action|Adventure</td>\n",
       "      <td>1</td>\n",
       "      <td>1</td>\n",
       "      <td>18</td>\n",
       "      <td>55</td>\n",
       "    </tr>\n",
       "    <tr>\n",
       "      <th>4</th>\n",
       "      <td>187</td>\n",
       "      <td>45</td>\n",
       "      <td>5</td>\n",
       "      <td>957782527</td>\n",
       "      <td>Apartment, The (1960)</td>\n",
       "      <td>Comedy|Drama</td>\n",
       "      <td>1</td>\n",
       "      <td>5</td>\n",
       "      <td>19</td>\n",
       "      <td>41</td>\n",
       "    </tr>\n",
       "  </tbody>\n",
       "</table>\n",
       "</div>"
      ],
      "text/plain": [
       "   user_id  movie_id  rating  timestamp  \\\n",
       "0      107        12       4  968035345   \n",
       "1      123       169       3  966536874   \n",
       "2       12         6       4  976203603   \n",
       "3       21       112       3  975430389   \n",
       "4      187        45       5  957782527   \n",
       "\n",
       "                                         title            genres  gender  age  \\\n",
       "0                               Ed Wood (1994)      Comedy|Drama       0    2   \n",
       "1                         Patriot Games (1992)   Action|Thriller       1    1   \n",
       "2        Bridges of Madison County, The (1995)     Drama|Romance       0    2   \n",
       "3  Indiana Jones and the Temple of Doom (1984)  Action|Adventure       1    1   \n",
       "4                        Apartment, The (1960)      Comedy|Drama       1    5   \n",
       "\n",
       "   occupation  zip  \n",
       "0           4   35  \n",
       "1           4  118  \n",
       "2          13   99  \n",
       "3          18   55  \n",
       "4          19   41  "
      ]
     },
     "execution_count": 6,
     "metadata": {},
     "output_type": "execute_result"
    }
   ],
   "source": [
    "data.head()"
   ]
  },
  {
   "cell_type": "code",
   "execution_count": 14,
   "metadata": {},
   "outputs": [],
   "source": [
    "#计算每个特征中的不同特征值个数\n",
    "fixlen_feature_columns = [SparseFeat(feature,data[feature].nunique())\n",
    "                      for feature in sparse_features]\n",
    "#print(fixlen_feature_columns)\n",
    "linearlen_feature_columns = fixlen_feature_columns\n",
    "dnn_feature_columns = fixlen_feature_columns\n",
    "feature_names = get_feature_names(linear_feature_columns + \n",
    "                                 dnn_feature_columns)"
   ]
  },
  {
   "cell_type": "code",
   "execution_count": 16,
   "metadata": {},
   "outputs": [],
   "source": [
    "#数据集切分\n",
    "train,test = train_test_split(data,test_size=0.2)\n",
    "train_model_input = {name:train[name].values for name in feature_names}\n",
    "test_model_input = {name:test[name].values for name in feature_names}"
   ]
  },
  {
   "cell_type": "code",
   "execution_count": 20,
   "metadata": {},
   "outputs": [
    {
     "name": "stdout",
     "output_type": "stream",
     "text": [
      "Train on 128 samples, validate on 32 samples\n",
      "Epoch 1/1\n",
      "128/128 [==============================] - 2s 12ms/step - loss: 13.7345 - mean_squared_error: 13.7345 - val_loss: 13.3922 - val_mean_squared_error: 13.3922\n"
     ]
    }
   ],
   "source": [
    "#使用WDL训练\n",
    "model = WDL(linear_feature_columns,dnn_feature_columns,\n",
    "           task='regression')\n"
   ]
  },
  {
   "cell_type": "code",
   "execution_count": 21,
   "metadata": {},
   "outputs": [
    {
     "name": "stdout",
     "output_type": "stream",
     "text": [
      "test RMSE 3.979334115150423\n"
     ]
    }
   ],
   "source": [
    "#使用WDL预测\n",
    "pred_ans=model.predict(test_model_input,batch_size=256)\n",
    "#输出RMSE或MSE\n",
    "mse = round(mean_squared_error(test[target].values,pred_ans),4)\n",
    "rmse = mse**0.5\n",
    "print('test RMSE',rmse)"
   ]
  },
  {
   "cell_type": "code",
   "execution_count": 22,
   "metadata": {},
   "outputs": [
    {
     "name": "stdout",
     "output_type": "stream",
     "text": [
      "Train on 128 samples, validate on 32 samples\n",
      "Epoch 1/10\n",
      "128/128 [==============================] - 2s 15ms/step - loss: 13.7346 - mean_squared_error: 13.7346 - val_loss: 13.4036 - val_mean_squared_error: 13.4036\n",
      "Epoch 2/10\n",
      "128/128 [==============================] - 0s 55us/step - loss: 13.6202 - mean_squared_error: 13.6202 - val_loss: 13.3036 - val_mean_squared_error: 13.3036\n",
      "Epoch 3/10\n",
      "128/128 [==============================] - 0s 39us/step - loss: 13.5024 - mean_squared_error: 13.5024 - val_loss: 13.1979 - val_mean_squared_error: 13.1979\n",
      "Epoch 4/10\n",
      "128/128 [==============================] - 0s 55us/step - loss: 13.3792 - mean_squared_error: 13.3792 - val_loss: 13.0882 - val_mean_squared_error: 13.0882\n",
      "Epoch 5/10\n",
      "128/128 [==============================] - 0s 39us/step - loss: 13.2523 - mean_squared_error: 13.2523 - val_loss: 12.9734 - val_mean_squared_error: 12.9734\n",
      "Epoch 6/10\n",
      "128/128 [==============================] - 0s 39us/step - loss: 13.1206 - mean_squared_error: 13.1206 - val_loss: 12.8536 - val_mean_squared_error: 12.8536\n",
      "Epoch 7/10\n",
      "128/128 [==============================] - 0s 39us/step - loss: 12.9841 - mean_squared_error: 12.9841 - val_loss: 12.7286 - val_mean_squared_error: 12.7286\n",
      "Epoch 8/10\n",
      "128/128 [==============================] - 0s 47us/step - loss: 12.8427 - mean_squared_error: 12.8427 - val_loss: 12.5977 - val_mean_squared_error: 12.5977\n",
      "Epoch 9/10\n",
      "128/128 [==============================] - 0s 39us/step - loss: 12.6958 - mean_squared_error: 12.6958 - val_loss: 12.4613 - val_mean_squared_error: 12.4613\n",
      "Epoch 10/10\n",
      "128/128 [==============================] - 0s 39us/step - loss: 12.5437 - mean_squared_error: 12.5437 - val_loss: 12.3191 - val_mean_squared_error: 12.3191\n"
     ]
    }
   ],
   "source": [
    "#NFM对比\n",
    "from deepctr.models import NFM\n",
    "model = NFM(linear_feature_columns,dnn_feature_columns,\n",
    "           task='regression')\n",
    "model.compile('adam','mse',metrics=['mse'])\n",
    "history = model.fit(train_model_input,train[target].values,\n",
    "                   batch_size=256,epochs=10,verbose=True,validation_split=0.2)"
   ]
  },
  {
   "cell_type": "code",
   "execution_count": null,
   "metadata": {},
   "outputs": [],
   "source": []
  }
 ],
 "metadata": {
  "kernelspec": {
   "display_name": "Python 3",
   "language": "python",
   "name": "python3"
  },
  "language_info": {
   "codemirror_mode": {
    "name": "ipython",
    "version": 3
   },
   "file_extension": ".py",
   "mimetype": "text/x-python",
   "name": "python",
   "nbconvert_exporter": "python",
   "pygments_lexer": "ipython3",
   "version": "3.7.0"
  }
 },
 "nbformat": 4,
 "nbformat_minor": 2
}
