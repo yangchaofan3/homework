{
 "cells": [
  {
   "cell_type": "code",
   "execution_count": 26,
   "metadata": {},
   "outputs": [
    {
     "name": "stdout",
     "output_type": "stream",
     "text": [
      "(1797, 64)\n",
      "[[ 0.  0.  5. 13.  9.  1.  0.  0.]\n",
      " [ 0.  0. 13. 15. 10. 15.  5.  0.]\n",
      " [ 0.  3. 15.  2.  0. 11.  8.  0.]\n",
      " [ 0.  4. 12.  0.  0.  8.  8.  0.]\n",
      " [ 0.  5.  8.  0.  0.  9.  8.  0.]\n",
      " [ 0.  4. 11.  0.  1. 12.  7.  0.]\n",
      " [ 0.  2. 14.  5. 10. 12.  0.  0.]\n",
      " [ 0.  0.  6. 13. 10.  0.  0.  0.]]\n",
      "0\n"
     ]
    },
    {
     "data": {
      "image/png": "[encoded data removed]",
      "text/plain": [
       "<Figure size 432x288 with 1 Axes>"
      ]
     },
     "metadata": {
      "needs_background": "light"
     },
     "output_type": "display_data"
    }
   ],
   "source": [
    "# -*- encoding:utf-8 -*-\n",
    "from sklearn.model_selection import train_test_split #训练集、测试集划分\n",
    "from sklearn import preprocessing\n",
    "from sklearn.metrics import accuracy_score\n",
    "from sklearn.datasets import load_digits\n",
    "import matplotlib.pyplot as plt\n",
    "\n",
    "from sklearn.tree import DecisionTreeClassifier\n",
    "\n",
    "#加载\n",
    "digits = load_digits()\n",
    "data = digits.data\n",
    "#数据探索\n",
    "print(data.shape)\n",
    "#查看第一幅图像\n",
    "print(digits.images[0])\n",
    "#第一幅图代表数字含义:64个特征代表0\n",
    "print(digits.target[0])\n",
    "#第一幅图像显示\n",
    "plt.gray()\n",
    "plt.title('Handwrite')\n",
    "plt.imshow(digits.images[0])\n",
    "plt.show()"
   ]
  },
  {
   "cell_type": "code",
   "execution_count": 28,
   "metadata": {},
   "outputs": [
    {
     "name": "stdout",
     "output_type": "stream",
     "text": [
      "start training...\n",
      "start testing...\n",
      "The accuracy score is 0.857778\n"
     ]
    }
   ],
   "source": [
    "# 数据分割，25%作为测试集，其余训练集，random_state()表示随机数种子，0则表示每次随机不同\n",
    "train_features,test_features,train_labels,test_labels = train_test_split(data,digits.target, test_size=0.25 ,random_state=10)\n",
    "print('start training...')\n",
    "clf = DecisionTreeClassifier(criterion='gini')\n",
    "clf.fit(train_features,train_labels)\n",
    "\n",
    "print('start testing...')\n",
    "\n",
    "test_predict = clf.predict(test_features)\n",
    "\n",
    "score = accuracy_score(test_labels,test_predict)\n",
    "print('The accuracy score is %f' % score)\n",
    "\n"
   ]
  },
  {
   "cell_type": "code",
   "execution_count": 29,
   "metadata": {},
   "outputs": [
    {
     "name": "stdout",
     "output_type": "stream",
     "text": [
      "start training...\n",
      "start testing...\n",
      "The accuracy score is 0.853333\n"
     ]
    }
   ],
   "source": [
    "#若采用Z-score规范化\n",
    "ss = preprocessing.StandardScaler()\n",
    "train_ss_features = ss.fit_transform(train_features)\n",
    "test_ss_features = ss.transform(test_features)\n",
    "\n",
    "print('start training...')\n",
    "clf = DecisionTreeClassifier(criterion='gini')\n",
    "clf.fit(train_ss_features,train_labels)\n",
    "\n",
    "print('start testing...')\n",
    "test_predict = clf.predict(test_ss_features)\n",
    "\n",
    "score = accuracy_score(test_labels,test_predict)\n",
    "print('The accuracy score is %f' % score)"
   ]
  },
  {
   "cell_type": "code",
   "execution_count": null,
   "metadata": {},
   "outputs": [],
   "source": []
  },
  {
   "cell_type": "code",
   "execution_count": null,
   "metadata": {},
   "outputs": [],
   "source": []
  },
  {
   "cell_type": "code",
   "execution_count": null,
   "metadata": {},
   "outputs": [],
   "source": []
  },
  {
   "cell_type": "code",
   "execution_count": null,
   "metadata": {},
   "outputs": [],
   "source": []
  }
 ],
 "metadata": {
  "kernelspec": {
   "display_name": "Python 3",
   "language": "python",
   "name": "python3"
  },
  "language_info": {
   "codemirror_mode": {
    "name": "ipython",
    "version": 3
   },
   "file_extension": ".py",
   "mimetype": "text/x-python",
   "name": "python",
   "nbconvert_exporter": "python",
   "pygments_lexer": "ipython3",
   "version": "3.7.3"
  }
 },
 "nbformat": 4,
 "nbformat_minor": 2
}
